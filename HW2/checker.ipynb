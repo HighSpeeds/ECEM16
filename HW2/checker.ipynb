{
 "cells": [
  {
   "cell_type": "code",
   "execution_count": 16,
   "metadata": {},
   "outputs": [],
   "source": [
    "import numpy as np\n",
    "from calendar import monthrange"
   ]
  },
  {
   "cell_type": "code",
   "execution_count": 8,
   "metadata": {},
   "outputs": [],
   "source": [
    "Months=np.arange(1,13)"
   ]
  },
  {
   "cell_type": "code",
   "execution_count": 14,
   "metadata": {},
   "outputs": [],
   "source": [
    "M=[]\n",
    "for m in Months:\n",
    "    M.append(\"\")\n",
    "    for i in [3,2,1,0]:\n",
    "        M[-1]+=str(m//(2**i))\n",
    "        m=m%(2**i)"
   ]
  },
  {
   "cell_type": "code",
   "execution_count": 19,
   "metadata": {},
   "outputs": [],
   "source": [
    "M\n",
    "a=[m[0] for m in M]\n",
    "b=[m[1] for m in M]\n",
    "c=[m[2] for m in M]\n",
    "d=[m[3] for m in M]\n"
   ]
  },
  {
   "cell_type": "code",
   "execution_count": 18,
   "metadata": {},
   "outputs": [
    {
     "data": {
      "text/plain": [
       "[True, False, True, False, True, False, True, True, False, True, False, True]"
      ]
     },
     "execution_count": 18,
     "metadata": {},
     "output_type": "execute_result"
    }
   ],
   "source": [
    "outputs=[monthrange(2022, i)[1]==31 for i in Months]\n",
    "outputs"
   ]
  },
  {
   "cell_type": "code",
   "execution_count": 27,
   "metadata": {},
   "outputs": [
    {
     "name": "stdout",
     "output_type": "stream",
     "text": [
      "1 & 0 & 0 & 0 & 1 & 1 \\\\\n",
      "\\hline\n",
      "2 & 0 & 0 & 1 & 0 & 0 \\\\\n",
      "\\hline\n",
      "3 & 0 & 0 & 1 & 1 & 1 \\\\\n",
      "\\hline\n",
      "4 & 0 & 1 & 0 & 0 & 0 \\\\\n",
      "\\hline\n",
      "5 & 0 & 1 & 0 & 1 & 1 \\\\\n",
      "\\hline\n",
      "6 & 0 & 1 & 1 & 0 & 0 \\\\\n",
      "\\hline\n",
      "7 & 0 & 1 & 1 & 1 & 1 \\\\\n",
      "\\hline\n",
      "8 & 1 & 0 & 0 & 0 & 1 \\\\\n",
      "\\hline\n",
      "9 & 1 & 0 & 0 & 1 & 0 \\\\\n",
      "\\hline\n",
      "10 & 1 & 0 & 1 & 0 & 1 \\\\\n",
      "\\hline\n",
      "11 & 1 & 0 & 1 & 1 & 0 \\\\\n",
      "\\hline\n",
      "12 & 1 & 1 & 0 & 0 & 1 \\\\\n",
      "\\hline\n"
     ]
    }
   ],
   "source": [
    "for i in range(len(outputs)):\n",
    "    print(f\"{Months[i]} & {a[i]} & {b[i]} & {c[i]} & {d[i]} & {int(outputs[i])} \\\\\\\\\")\n",
    "    print(\"\\hline\")"
   ]
  },
  {
   "cell_type": "code",
   "execution_count": 31,
   "metadata": {},
   "outputs": [
    {
     "name": "stderr",
     "output_type": "stream",
     "text": [
      "Fontconfig error: Cannot load default config file\n"
     ]
    }
   ],
   "source": [
    "import matplotlib.pyplot as plt"
   ]
  },
  {
   "cell_type": "code",
   "execution_count": 32,
   "metadata": {},
   "outputs": [
    {
     "data": {
      "text/plain": [
       "<Figure size 720x720 with 0 Axes>"
      ]
     },
     "execution_count": 32,
     "metadata": {},
     "output_type": "execute_result"
    },
    {
     "data": {
      "text/plain": [
       "<Figure size 720x720 with 0 Axes>"
      ]
     },
     "metadata": {},
     "output_type": "display_data"
    }
   ],
   "source": [
    "plt.figure(figsize=(10,10))\n",
    "plt."
   ]
  },
  {
   "cell_type": "code",
   "execution_count": 35,
   "metadata": {},
   "outputs": [],
   "source": [
    "f=lambda m0, m3: (m0 and not m3) or (m3 and not m0)\n",
    "f2=lambda m0, m3: m0 or (m0 and not m3)"
   ]
  },
  {
   "cell_type": "code",
   "execution_count": 36,
   "metadata": {},
   "outputs": [
    {
     "name": "stdout",
     "output_type": "stream",
     "text": [
      "True True : False True\n",
      "True False : True True\n",
      "False True : True False\n",
      "False False : False False\n"
     ]
    }
   ],
   "source": [
    "for m0 in [True, False]:\n",
    "    for m3 in [True, False]:\n",
    "        print(f\"{m0} {m3} : {f(m0, m3)} {f2(m0, m3)}\")"
   ]
  },
  {
   "cell_type": "code",
   "execution_count": 37,
   "metadata": {},
   "outputs": [
    {
     "ename": "NameError",
     "evalue": "name 'disp' is not defined",
     "output_type": "error",
     "traceback": [
      "\u001b[0;31m---------------------------------------------------------------------------\u001b[0m",
      "\u001b[0;31mNameError\u001b[0m                                 Traceback (most recent call last)",
      "\u001b[0;32m/tmp/ipykernel_12852/3379145008.py\u001b[0m in \u001b[0;36m<module>\u001b[0;34m\u001b[0m\n\u001b[0;32m----> 1\u001b[0;31m \u001b[0mdisp\u001b[0m\u001b[0;34m(\u001b[0m\u001b[0;36m4\u001b[0m\u001b[0;34m)\u001b[0m\u001b[0;34m\u001b[0m\u001b[0;34m\u001b[0m\u001b[0m\n\u001b[0m",
      "\u001b[0;31mNameError\u001b[0m: name 'disp' is not defined"
     ]
    }
   ],
   "source": [
    "disp(4)"
   ]
  },
  {
   "cell_type": "code",
   "execution_count": null,
   "metadata": {},
   "outputs": [],
   "source": []
  }
 ],
 "metadata": {
  "kernelspec": {
   "display_name": "Python 3.9.7 ('base')",
   "language": "python",
   "name": "python3"
  },
  "language_info": {
   "codemirror_mode": {
    "name": "ipython",
    "version": 3
   },
   "file_extension": ".py",
   "mimetype": "text/x-python",
   "name": "python",
   "nbconvert_exporter": "python",
   "pygments_lexer": "ipython3",
   "version": "3.9.7"
  },
  "orig_nbformat": 4,
  "vscode": {
   "interpreter": {
    "hash": "586ad1ed5c97141e2437e681efbf1ec0adcd17d830cf5af2ca3d2819e743e158"
   }
  }
 },
 "nbformat": 4,
 "nbformat_minor": 2
}
