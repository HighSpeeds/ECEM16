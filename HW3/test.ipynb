{
 "cells": [
  {
   "cell_type": "code",
   "execution_count": 1,
   "metadata": {},
   "outputs": [],
   "source": [
    "import numpy as np"
   ]
  },
  {
   "cell_type": "code",
   "execution_count": 15,
   "metadata": {},
   "outputs": [
    {
     "name": "stdout",
     "output_type": "stream",
     "text": [
      "C=True, Q_prev=True\n",
      "p1=False, p2=True\n",
      "Q=False, Q_not=False\n",
      "--------------\n",
      "C=True, Q_prev=False\n",
      "p1=True, p2=False\n",
      "Q=False, Q_not=False\n",
      "--------------\n",
      "C=False, Q_prev=True\n",
      "p1=False, p2=False\n",
      "Q=True, Q_not=False\n",
      "--------------\n",
      "C=False, Q_prev=False\n",
      "p1=False, p2=False\n",
      "Q=False, Q_not=True\n",
      "--------------\n"
     ]
    }
   ],
   "source": [
    "J=True\n",
    "K=True\n",
    "\n",
    "for C in [True,False]:\n",
    "    for Q_prev in [True,False]:\n",
    "        print(\"C={}, Q_prev={}\".format(C,Q_prev))\n",
    "        p1=(C and not Q_prev)\n",
    "        p2=(C and Q_prev)\n",
    "        print(\"p1={}, p2={}\".format(p1,p2))\n",
    "        Q=not (p2 or not Q_prev)\n",
    "        Q_not=not (p1 or Q_prev)\n",
    "        print(\"Q={}, Q_not={}\".format(Q,Q_not))\n",
    "        print(\"--------------\")"
   ]
  },
  {
   "cell_type": "code",
   "execution_count": 16,
   "metadata": {},
   "outputs": [
    {
     "name": "stdout",
     "output_type": "stream",
     "text": [
      "S=True, R=True, Q_prev=True\n",
      "Q=False, Q_not=True\n",
      "--------------\n",
      "S=True, R=True, Q_prev=False\n",
      "Q=False, Q_not=True\n",
      "--------------\n",
      "S=True, R=False, Q_prev=True\n",
      "Q=False, Q_not=False\n",
      "--------------\n",
      "S=True, R=False, Q_prev=False\n",
      "Q=False, Q_not=True\n",
      "--------------\n",
      "S=False, R=True, Q_prev=True\n",
      "Q=False, Q_not=True\n",
      "--------------\n",
      "S=False, R=True, Q_prev=False\n",
      "Q=True, Q_not=True\n",
      "--------------\n",
      "S=False, R=False, Q_prev=True\n",
      "Q=False, Q_not=False\n",
      "--------------\n",
      "S=False, R=False, Q_prev=False\n",
      "Q=True, Q_not=True\n",
      "--------------\n"
     ]
    }
   ],
   "source": [
    "for S in [True,False]:\n",
    "    for R in [True,False]:\n",
    "        for Q_prev in [True,False]:\n",
    "            print(\"S={}, R={}, Q_prev={}\".format(S,R,Q_prev))\n",
    "            \n",
    "            Q=not (S or Q_prev)\n",
    "            Q_not=(R or not Q_prev)\n",
    "            print(\"Q={}, Q_not={}\".format(Q,Q_not))\n",
    "            print(\"--------------\")"
   ]
  },
  {
   "cell_type": "code",
   "execution_count": 21,
   "metadata": {},
   "outputs": [],
   "source": [
    "def SR_latch(S,R,Q_prev):\n",
    "    if not S and not R:\n",
    "        return Q_prev\n",
    "    if S:\n",
    "        return True\n",
    "    if R:\n",
    "        return False\n",
    "    else:\n",
    "        raise Exception(\"Invalid input\")\n",
    "        return None"
   ]
  },
  {
   "cell_type": "code",
   "execution_count": 25,
   "metadata": {},
   "outputs": [
    {
     "name": "stdout",
     "output_type": "stream",
     "text": [
      "0 & 0 & 0 & 0 \\\\\n",
      "\\hline\n",
      "0 & 0 & 1 & 1 \\\\\n",
      "\\hline\n",
      "0 & 1 & 0 & 0 \\\\\n",
      "\\hline\n",
      "0 & 1 & 1 & 0 \\\\\n",
      "\\hline\n",
      "1 & 0 & 0 & 1 \\\\\n",
      "\\hline\n",
      "1 & 0 & 1 & 1 \\\\\n",
      "\\hline\n",
      "1 & 1 & 0 & 1 \\\\\n",
      "\\hline\n",
      "1 & 1 & 1 & 0 \\\\\n",
      "\\hline\n"
     ]
    }
   ],
   "source": [
    "C=True\n",
    "\n",
    "for J in [False,True]:\n",
    "    for K in [False,True]:\n",
    "        for Q_prev in [False,True]:\n",
    "            p1=(J and C and not Q_prev)\n",
    "            p2=(K and C and Q_prev)\n",
    "            Q_not=not (p1 or Q_prev)\n",
    "            try:\n",
    "                Q=SR_latch(p1,p2,Q_prev)\n",
    "                print(f\"{int(J)} & {int(K)} & {int(Q_prev)} & {int(Q)} \\\\\\\\\")\n",
    "            except:\n",
    "                print(f\"{int(J)} & {int(K)} & {int(Q_prev)} & \\\\textbf{{ERROR}} \\\\\\\\\")\n",
    "            print(\"\\\\hline\")"
   ]
  },
  {
   "cell_type": "markdown",
   "metadata": {},
   "source": []
  }
 ],
 "metadata": {
  "kernelspec": {
   "display_name": "Python 3.9.12",
   "language": "python",
   "name": "python3"
  },
  "language_info": {
   "codemirror_mode": {
    "name": "ipython",
    "version": 3
   },
   "file_extension": ".py",
   "mimetype": "text/x-python",
   "name": "python",
   "nbconvert_exporter": "python",
   "pygments_lexer": "ipython3",
   "version": "3.9.12"
  },
  "orig_nbformat": 4,
  "vscode": {
   "interpreter": {
    "hash": "9765603ce97f2a42cb841f1738ff93df698dc4f6fb4ff3dec237220abbbf8f84"
   }
  }
 },
 "nbformat": 4,
 "nbformat_minor": 2
}
