{
 "cells": [
  {
   "cell_type": "code",
   "execution_count": 4,
   "metadata": {},
   "outputs": [
    {
     "name": "stdout",
     "output_type": "stream",
     "text": [
      "64\n",
      "16\n",
      "48\n",
      "4\n",
      "24\n",
      "1\n",
      "13\n",
      "0\n",
      "25\n"
     ]
    },
    {
     "data": {
      "text/plain": [
       "13"
      ]
     },
     "execution_count": 4,
     "metadata": {},
     "output_type": "execute_result"
    }
   ],
   "source": [
    "def isqrt( n):\n",
    "\n",
    "    x = n\n",
    "    c = 0\n",
    "\n",
    "    \n",
    "    d = 1 << 30\n",
    "    while (d > n):\n",
    "        d >>= 2\n",
    "\n",
    "\n",
    "    while (d != 0):\n",
    "\n",
    "        if (x >= c + d):\n",
    "            x -= c + d\n",
    "            c = (c >> 1) + d\n",
    "\n",
    "        else:\n",
    "            c >>= 1\n",
    "\n",
    "        d >>= 2\n",
    "        print(c)\n",
    "        print(d)\n",
    "    print(x)\n",
    "    return c\n",
    "\n",
    "\n",
    "isqrt(194)\n"
   ]
  },
  {
   "cell_type": "code",
   "execution_count": null,
   "metadata": {},
   "outputs": [],
   "source": []
  }
 ],
 "metadata": {
  "kernelspec": {
   "display_name": "Python 3.9.12",
   "language": "python",
   "name": "python3"
  },
  "language_info": {
   "codemirror_mode": {
    "name": "ipython",
    "version": 3
   },
   "file_extension": ".py",
   "mimetype": "text/x-python",
   "name": "python",
   "nbconvert_exporter": "python",
   "pygments_lexer": "ipython3",
   "version": "3.9.12"
  },
  "orig_nbformat": 4,
  "vscode": {
   "interpreter": {
    "hash": "9765603ce97f2a42cb841f1738ff93df698dc4f6fb4ff3dec237220abbbf8f84"
   }
  }
 },
 "nbformat": 4,
 "nbformat_minor": 2
}
