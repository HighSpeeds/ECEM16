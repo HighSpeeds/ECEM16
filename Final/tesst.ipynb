{
 "cells": [
  {
   "cell_type": "code",
   "execution_count": 4,
   "metadata": {},
   "outputs": [
    {
     "name": "stdout",
     "output_type": "stream",
     "text": [
      "64\n",
      "16\n",
      "48\n",
      "4\n",
      "24\n",
      "1\n",
      "13\n",
      "0\n",
      "25\n"
     ]
    },
    {
     "data": {
      "text/plain": [
       "13"
      ]
     },
     "execution_count": 4,
     "metadata": {},
     "output_type": "execute_result"
    }
   ],
   "source": [
    "def isqrt( n):\n",
    "\n",
    "    x = n\n",
    "    c = 0\n",
    "\n",
    "    \n",
    "    d = 1 << 30\n",
    "    while (d > n):\n",
    "        d >>= 2\n",
    "\n",
    "\n",
    "    while (d != 0):\n",
    "\n",
    "        if (x >= c + d):\n",
    "            x -= c + d\n",
    "            c = (c >> 1) + d\n",
    "\n",
    "        else:\n",
    "            c >>= 1\n",
    "\n",
    "        d >>= 2\n",
    "        print(c)\n",
    "        print(d)\n",
    "    print(x)\n",
    "    return c\n",
    "\n",
    "\n",
    "isqrt(194)\n"
   ]
  },
  {
   "cell_type": "code",
   "execution_count": 8,
   "metadata": {},
   "outputs": [
    {
     "name": "stdout",
     "output_type": "stream",
     "text": [
      "S0 & 000\\\\\n",
      "\\hline\n",
      "S1 & 001\\\\\n",
      "\\hline\n",
      "S2 & 010\\\\\n",
      "\\hline\n",
      "S3 & 011\\\\\n",
      "\\hline\n",
      "S4 & 100\\\\\n",
      "\\hline\n",
      "S5 & 101\\\\\n",
      "\\hline\n",
      "S6 & 110\\\\\n",
      "\\hline\n",
      "S7 & 111\\\\\n",
      "\\hline\n"
     ]
    }
   ],
   "source": [
    "i=0\n",
    "for REQ in [0,1]:\n",
    "    for GO in [0,1]:\n",
    "        for DONE in [0,1]:\n",
    "            print(f\"S{i} & {REQ}{GO}{DONE}\\\\\\\\\")\n",
    "            print(\"\\hline\")\n",
    "            i+=1\n",
    "    "
   ]
  },
  {
   "cell_type": "code",
   "execution_count": null,
   "metadata": {},
   "outputs": [],
   "source": []
  }
 ],
 "metadata": {
  "kernelspec": {
   "display_name": "Python 3.9.12",
   "language": "python",
   "name": "python3"
  },
  "language_info": {
   "codemirror_mode": {
    "name": "ipython",
    "version": 3
   },
   "file_extension": ".py",
   "mimetype": "text/x-python",
   "name": "python",
   "nbconvert_exporter": "python",
   "pygments_lexer": "ipython3",
   "version": "3.9.12"
  },
  "orig_nbformat": 4,
  "vscode": {
   "interpreter": {
    "hash": "9765603ce97f2a42cb841f1738ff93df698dc4f6fb4ff3dec237220abbbf8f84"
   }
  }
 },
 "nbformat": 4,
 "nbformat_minor": 2
}
