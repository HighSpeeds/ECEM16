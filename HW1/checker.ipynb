{
 "cells": [
  {
   "cell_type": "code",
   "execution_count": 39,
   "metadata": {},
   "outputs": [],
   "source": [
    "real_func=lambda a,b,c: ((a and  not b) or not c) and (not ((c or not a) and b))\n",
    "#test_func=lambda a,b,c: a and not b\n",
    "#test_func=lambda a,b,c: ((a and  not b) and (((not c and a) or not b))) or (not c and (((not c and a) or not b)))\n",
    "test_func=lambda a,b,c: (a  and (not b) and (not c)) or (a and not  b) or (a and not c)  or (not  b and not c)\n",
    "test_func=lambda a,b,c: (a and not  b) or (not c and (a or not b))"
   ]
  },
  {
   "cell_type": "code",
   "execution_count": 40,
   "metadata": {},
   "outputs": [
    {
     "name": "stdout",
     "output_type": "stream",
     "text": [
      "a=True, b=True, c=True output=False\n",
      "False\n",
      "a=True, b=True, c=False output=True\n",
      "True\n",
      "a=True, b=False, c=True output=True\n",
      "True\n",
      "a=True, b=False, c=False output=True\n",
      "True\n",
      "a=False, b=True, c=True output=False\n",
      "False\n",
      "a=False, b=True, c=False output=False\n",
      "False\n",
      "a=False, b=False, c=True output=False\n",
      "False\n",
      "a=False, b=False, c=False output=True\n",
      "True\n"
     ]
    }
   ],
   "source": [
    "for a in [True,False]:\n",
    "    for b in [True,False]:\n",
    "        for c in [True,False]:\n",
    "            print(f\"a={a}, b={b}, c={c} output={real_func(a,b,c)}\")\n",
    "            print(test_func(a,b,c))"
   ]
  },
  {
   "cell_type": "code",
   "execution_count": 2,
   "metadata": {},
   "outputs": [],
   "source": [
    "func1=lambda x,y,z: not(x or y or z)\n",
    "func2=lambda x,y,z: (not x) and (not y) and (not z)"
   ]
  },
  {
   "cell_type": "code",
   "execution_count": 9,
   "metadata": {},
   "outputs": [],
   "source": [
    "func1=lambda x,y,z: not(x and y and z)\n",
    "func2=lambda x,y,z: (not x) or (not y) or (not z)"
   ]
  },
  {
   "cell_type": "code",
   "execution_count": 10,
   "metadata": {},
   "outputs": [
    {
     "name": "stdout",
     "output_type": "stream",
     "text": [
      "1 & 1 & 1 & 0 & 0\n",
      "\\hline\n",
      "1 & 1 & 0 & 1 & 1\n",
      "\\hline\n",
      "1 & 0 & 1 & 1 & 1\n",
      "\\hline\n",
      "1 & 0 & 0 & 1 & 1\n",
      "\\hline\n",
      "0 & 1 & 1 & 1 & 1\n",
      "\\hline\n",
      "0 & 1 & 0 & 1 & 1\n",
      "\\hline\n",
      "0 & 0 & 1 & 1 & 1\n",
      "\\hline\n",
      "0 & 0 & 0 & 1 & 1\n",
      "\\hline\n"
     ]
    }
   ],
   "source": [
    "for x in [True,False]:\n",
    "    for y in [True,False]:\n",
    "        for z in [True,False]:\n",
    "            print(f\"{int(x)} & {int(y)} & {int(z)} & {int(func1(x,y,z))} & {int(func2(x,y,z))}\")\n",
    "            print(\"\\hline\")"
   ]
  },
  {
   "cell_type": "code",
   "execution_count": 12,
   "metadata": {},
   "outputs": [],
   "source": [
    "f=lambda x,y,w,z: ((y and not z) or ((not x) and w)) and ((x and not y)or(z and not w))"
   ]
  },
  {
   "cell_type": "code",
   "execution_count": 13,
   "metadata": {},
   "outputs": [
    {
     "name": "stdout",
     "output_type": "stream",
     "text": [
      "False\n",
      "False\n",
      "False\n",
      "False\n",
      "False\n",
      "False\n",
      "False\n",
      "False\n",
      "False\n",
      "False\n",
      "False\n",
      "False\n",
      "False\n",
      "False\n",
      "False\n",
      "False\n"
     ]
    }
   ],
   "source": [
    "for x in [True,False]:\n",
    "    for y in [True,False]:\n",
    "        for w in [True,False]:\n",
    "            for z in [True,False]:\n",
    "                print(f(x,y,w,z))"
   ]
  },
  {
   "cell_type": "code",
   "execution_count": 3,
   "metadata": {},
   "outputs": [],
   "source": [
    "def gray_code(n):\n",
    "    if n==1:\n",
    "        return [\"0\",\"1\"]\n",
    "    else:\n",
    "        prev=gray_code(n-1)\n",
    "        return [\"0\"+i for i in prev]+[\"1\"+i for i in reversed(prev)]\n",
    "\n",
    "codes=gray_code(5)"
   ]
  },
  {
   "cell_type": "code",
   "execution_count": 17,
   "metadata": {},
   "outputs": [
    {
     "name": "stdout",
     "output_type": "stream",
     "text": [
      "\\begin{tabular}{|c|c|}\n",
      "a & 00000 \\\\\n",
      "\\hline\n",
      "b & 00001 \\\\\n",
      "\\hline\n",
      "c & 00011 \\\\\n",
      "\\hline\n",
      "d & 00010 \\\\\n",
      "\\hline\n",
      "e & 00110 \\\\\n",
      "\\hline\n",
      "f & 00111 \\\\\n",
      "\\hline\n",
      "g & 00101 \\\\\n",
      "\\hline\n",
      "h & 00100 \\\\\n",
      "\\hline\n",
      "i & 01100 \\\\\n",
      "\\hline\n",
      "j & 01101 \\\\\n",
      "\\hline\n",
      "k & 01111 \\\\\n",
      "\\hline\n",
      "l & 01110 \\\\\n",
      "\\hline\n",
      "m & 01010 \\\\\n",
      "\\hline\n",
      "\\end{tabular}\n",
      "\\quad\n",
      "\\begin{tabular}{|c|c|}\n",
      "n & 01011 \\\\\n",
      "\\hline\n",
      "o & 01001 \\\\\n",
      "\\hline\n",
      "p & 01000 \\\\\n",
      "\\hline\n",
      "q & 11000 \\\\\n",
      "\\hline\n",
      "r & 11001 \\\\\n",
      "\\hline\n",
      "s & 11011 \\\\\n",
      "\\hline\n",
      "t & 11010 \\\\\n",
      "\\hline\n",
      "u & 11110 \\\\\n",
      "\\hline\n",
      "v & 11111 \\\\\n",
      "\\hline\n",
      "w & 11101 \\\\\n",
      "\\hline\n",
      "x & 11100 \\\\\n",
      "\\hline\n",
      "y & 10100 \\\\\n",
      "\\hline\n",
      "z & 10101 \\\\\n",
      "\\hline\n",
      "\\end{tabular}\n"
     ]
    }
   ],
   "source": [
    "import string\n",
    "print(\"\\\\begin{tabular}{|c|c|}\")\n",
    "for i,char in enumerate(string.ascii_lowercase):\n",
    "    if i==13:\n",
    "        print(\"\\end{tabular}\")\n",
    "        print(\"\\quad\")\n",
    "        print(\"\\\\begin{tabular}{|c|c|}\")\n",
    "    print(f\"{char} & {codes[i]} \\\\\",end=\"\")\n",
    "    print(\"\\\\\")\n",
    "    print(\"\\hline\")\n",
    "    \n",
    "print(\"\\end{tabular}\")"
   ]
  },
  {
   "cell_type": "code",
   "execution_count": 14,
   "metadata": {},
   "outputs": [
    {
     "data": {
      "text/plain": [
       "1"
      ]
     },
     "execution_count": 14,
     "metadata": {},
     "output_type": "execute_result"
    }
   ],
   "source": [
    "len(string.ascii_letters[12])"
   ]
  },
  {
   "cell_type": "code",
   "execution_count": null,
   "metadata": {},
   "outputs": [],
   "source": []
  }
 ],
 "metadata": {
  "kernelspec": {
   "display_name": "Python 3.9.7 ('base')",
   "language": "python",
   "name": "python3"
  },
  "language_info": {
   "codemirror_mode": {
    "name": "ipython",
    "version": 3
   },
   "file_extension": ".py",
   "mimetype": "text/x-python",
   "name": "python",
   "nbconvert_exporter": "python",
   "pygments_lexer": "ipython3",
   "version": "3.9.7"
  },
  "orig_nbformat": 4,
  "vscode": {
   "interpreter": {
    "hash": "586ad1ed5c97141e2437e681efbf1ec0adcd17d830cf5af2ca3d2819e743e158"
   }
  }
 },
 "nbformat": 4,
 "nbformat_minor": 2
}
