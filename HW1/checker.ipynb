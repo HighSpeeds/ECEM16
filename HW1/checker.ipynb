{
 "cells": [
  {
   "cell_type": "code",
   "execution_count": 4,
   "metadata": {},
   "outputs": [],
   "source": [
    "real_func=lambda a,b,c: ((a and  not b) or not c) and not ((c or not a) and b)"
   ]
  },
  {
   "cell_type": "code",
   "execution_count": 7,
   "metadata": {},
   "outputs": [
    {
     "name": "stdout",
     "output_type": "stream",
     "text": [
      "a=True, b=True, c=True output=False\n",
      "a=True, b=True, c=False output=True\n",
      "a=True, b=False, c=True output=True\n",
      "a=True, b=False, c=False output=True\n",
      "a=False, b=True, c=True output=False\n",
      "a=False, b=True, c=False output=False\n",
      "a=False, b=False, c=True output=False\n",
      "a=False, b=False, c=False output=True\n"
     ]
    }
   ],
   "source": [
    "for a in [True,False]:\n",
    "    for b in [True,False]:\n",
    "        for c in [True,False]:\n",
    "            print(f\"a={a}, b={b}, c={c} output={real_func(a,b,c)}\")"
   ]
  },
  {
   "cell_type": "code",
   "execution_count": 2,
   "metadata": {},
   "outputs": [],
   "source": [
    "func1=lambda x,y,z: not(x or y or z)\n",
    "func2=lambda x,y,z: (not x) and (not y) and (not z)"
   ]
  },
  {
   "cell_type": "code",
   "execution_count": 9,
   "metadata": {},
   "outputs": [],
   "source": [
    "func1=lambda x,y,z: not(x and y and z)\n",
    "func2=lambda x,y,z: (not x) or (not y) or (not z)"
   ]
  },
  {
   "cell_type": "code",
   "execution_count": 10,
   "metadata": {},
   "outputs": [
    {
     "name": "stdout",
     "output_type": "stream",
     "text": [
      "1 & 1 & 1 & 0 & 0\n",
      "\\hline\n",
      "1 & 1 & 0 & 1 & 1\n",
      "\\hline\n",
      "1 & 0 & 1 & 1 & 1\n",
      "\\hline\n",
      "1 & 0 & 0 & 1 & 1\n",
      "\\hline\n",
      "0 & 1 & 1 & 1 & 1\n",
      "\\hline\n",
      "0 & 1 & 0 & 1 & 1\n",
      "\\hline\n",
      "0 & 0 & 1 & 1 & 1\n",
      "\\hline\n",
      "0 & 0 & 0 & 1 & 1\n",
      "\\hline\n"
     ]
    }
   ],
   "source": [
    "for x in [True,False]:\n",
    "    for y in [True,False]:\n",
    "        for z in [True,False]:\n",
    "            print(f\"{int(x)} & {int(y)} & {int(z)} & {int(func1(x,y,z))} & {int(func2(x,y,z))}\")\n",
    "            print(\"\\hline\")"
   ]
  },
  {
   "cell_type": "code",
   "execution_count": null,
   "metadata": {},
   "outputs": [],
   "source": []
  }
 ],
 "metadata": {
  "kernelspec": {
   "display_name": "Python 3.9.7 ('base')",
   "language": "python",
   "name": "python3"
  },
  "language_info": {
   "codemirror_mode": {
    "name": "ipython",
    "version": 3
   },
   "file_extension": ".py",
   "mimetype": "text/x-python",
   "name": "python",
   "nbconvert_exporter": "python",
   "pygments_lexer": "ipython3",
   "version": "3.9.7"
  },
  "orig_nbformat": 4,
  "vscode": {
   "interpreter": {
    "hash": "586ad1ed5c97141e2437e681efbf1ec0adcd17d830cf5af2ca3d2819e743e158"
   }
  }
 },
 "nbformat": 4,
 "nbformat_minor": 2
}
